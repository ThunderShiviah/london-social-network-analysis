{
 "metadata": {
  "name": "",
  "signature": "sha256:253c9cf077707f000881219a947fcc43e697b9b385336dcc1c69b951aaec7ebd"
 },
 "nbformat": 3,
 "nbformat_minor": 0,
 "worksheets": [
  {
   "cells": [
    {
     "cell_type": "code",
     "collapsed": false,
     "input": [
      " from IPython.display import HTML"
     ],
     "language": "python",
     "metadata": {},
     "outputs": [],
     "prompt_number": 5
    },
    {
     "cell_type": "code",
     "collapsed": false,
     "input": [
      "\n",
      "s = \"\"\"<html>\n",
      "  <head>\n",
      "    <script type='text/javascript' src='https://www.google.com/jsapi'></script>\n",
      "    <script type='text/javascript'>\n",
      "     google.load('visualization', '1', {'packages': ['geochart']});\n",
      "     google.setOnLoadCallback(drawMarkersMap);\n",
      "\n",
      "      function drawMarkersMap() {\n",
      "      var data = google.visualization.arrayToDataTable([\n",
      "        ['Country',   'Population', 'Area Percentage'],\n",
      "        ['France',  65700000, 50],\n",
      "        ['Germany', 81890000, 27],\n",
      "        ['Poland',  38540000, 23]\n",
      "      ]);\n",
      "\n",
      "      var options = {\n",
      "        sizeAxis: { minValue: 0, maxValue: 100 },\n",
      "        region: '155', // Western Europe\n",
      "        displayMode: 'markers',\n",
      "        colorAxis: {colors: ['#e7711c', '#4374e0']} // orange to blue\n",
      "      };\n",
      "\n",
      "      var chart = new google.visualization.GeoChart(document.getElementById('chart_div'));\n",
      "      chart.draw(data, options);\n",
      "    };\n",
      "    </script>\n",
      "  </head>\n",
      "  <body>\n",
      "    <div id=\"chart_div\" style=\"width: 900px; height: 500px;\"></div>\n",
      "  </body>\n",
      "</html>\"\"\""
     ],
     "language": "python",
     "metadata": {},
     "outputs": [],
     "prompt_number": 7
    },
    {
     "cell_type": "code",
     "collapsed": false,
     "input": [
      "h = HTML(s); h"
     ],
     "language": "python",
     "metadata": {},
     "outputs": [],
     "prompt_number": 8
    },
    {
     "cell_type": "code",
     "collapsed": false,
     "input": [],
     "language": "python",
     "metadata": {},
     "outputs": []
    }
   ],
   "metadata": {}
  }
 ]
}